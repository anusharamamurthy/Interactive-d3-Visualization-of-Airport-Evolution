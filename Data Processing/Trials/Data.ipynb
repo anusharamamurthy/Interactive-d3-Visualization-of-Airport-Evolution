{
 "cells": [
  {
   "cell_type": "code",
   "execution_count": 1,
   "metadata": {
    "collapsed": true
   },
   "outputs": [],
   "source": [
    "import matplotlib.pyplot as plt\n",
    "import numpy as np\n",
    "import pandas as pd\n",
    "import seaborn as sb\n",
    "\n",
    "%matplotlib inline"
   ]
  },
  {
   "cell_type": "code",
   "execution_count": 2,
   "metadata": {
    "collapsed": false
   },
   "outputs": [],
   "source": [
    "df1 = pd.read_csv('1987.csv', delimiter=',',engine='python')\n",
    "#nw1 = df1['Dest'].value_counts()[:20]\n",
    "#nw1.to_csv('1987_filtered', sep='\\t', encoding='utf-8')\n",
    "#nw1"
   ]
  },
  {
   "cell_type": "code",
   "execution_count": 3,
   "metadata": {
    "collapsed": false
   },
   "outputs": [
    {
     "data": {
      "text/plain": [
       "Year  Dest\n",
       "1987  ORD     67830\n",
       "      ATL     66783\n",
       "      DFW     52450\n",
       "      LAX     45597\n",
       "      DEN     44284\n",
       "      SFO     34948\n",
       "      STL     32690\n",
       "      EWR     31058\n",
       "      PHX     30234\n",
       "      PIT     29296\n",
       "      LGA     28456\n",
       "      DTW     28452\n",
       "      BOS     25056\n",
       "      CLT     24664\n",
       "      MSP     23601\n",
       "      DCA     21979\n",
       "      IAH     21830\n",
       "      PHL     20474\n",
       "      MEM     19841\n",
       "      LAS     19149\n",
       "dtype: int64"
      ]
     },
     "execution_count": 3,
     "metadata": {},
     "output_type": "execute_result"
    }
   ],
   "source": [
    "nw1 = df1.groupby(['Year','Dest']).size()\n",
    "nw1.sort(ascending  = False)\n",
    "nw1[:20]"
   ]
  },
  {
   "cell_type": "code",
   "execution_count": 26,
   "metadata": {
    "collapsed": false
   },
   "outputs": [],
   "source": [
    "nw1[:20].to_csv('1997_filtered', sep='\\t', encoding='utf-8')"
   ]
  },
  {
   "cell_type": "code",
   "execution_count": 45,
   "metadata": {
    "collapsed": false
   },
   "outputs": [
    {
     "data": {
      "text/html": [
       "<div>\n",
       "<table border=\"1\" class=\"dataframe\">\n",
       "  <thead>\n",
       "    <tr style=\"text-align: right;\">\n",
       "      <th></th>\n",
       "      <th>CountAsD</th>\n",
       "      <th>CountAsO</th>\n",
       "      <th>Origin</th>\n",
       "      <th>Year</th>\n",
       "    </tr>\n",
       "  </thead>\n",
       "  <tbody>\n",
       "    <tr>\n",
       "      <th>0</th>\n",
       "      <td>0</td>\n",
       "      <td>0</td>\n",
       "      <td>BLR</td>\n",
       "      <td>0000</td>\n",
       "    </tr>\n",
       "  </tbody>\n",
       "</table>\n",
       "</div>"
      ],
      "text/plain": [
       "   CountAsD  CountAsO Origin  Year\n",
       "0         0         0    BLR  0000"
      ]
     },
     "execution_count": 45,
     "metadata": {},
     "output_type": "execute_result"
    }
   ],
   "source": [
    "inst = [{'Year':'0000','Origin':'BLR','CountAsO':0,'CountAsD':0}]\n",
    "nwdf= pd.DataFrame(inst)\n",
    "nwdf"
   ]
  },
  {
   "cell_type": "code",
   "execution_count": 3,
   "metadata": {
    "collapsed": true
   },
   "outputs": [],
   "source": [
    "list_filenames = ['1987.csv','1988.csv','1989.csv','1990.csv','1991.csv','1992.csv']#,\n",
    "                  #'1993.csv','1994.csv','1995.csv','1996.csv','1997.csv','1998.csv'\n",
    "                  #,'1999.csv','2000.csv','2001.csv','2002.csv','2003.csv','2004.csv',\n",
    "                  #'2005.csv','2006.csv','2007.csv','2008.csv']\n",
    "for i in list_filenames:\n",
    "    #print i\n",
    "    #i takes one file at a time\n",
    "    #read each file into a dataframe\n",
    "    df = pd.read_csv(i, delimiter=',',engine='python')\n",
    "    #df = pd.read_csv('1987.csv', delimiter=',',engine='python')\n",
    "    #find the count of incoming flights , Destination means flights will land in that location\n",
    "    #Hence Destination will have oncoming traffic\n",
    "    dest_df = df.groupby(['Year','Dest']).size()\n",
    "    dest_df.sort(ascending  = False)\n",
    "\n",
    "    with open('Incoming1.csv', 'a') as f:\n",
    "        \n",
    "        #write the data about incoming flights into one single csv\n",
    "        #write header into the csv only for the first time\n",
    "        if(i == '1987.csv'):\n",
    "            dest_df[:20].to_csv(f, header=True)\n",
    "        else:\n",
    "            dest_df[:20].to_csv(f, header=False)\n",
    "    #find count of outgoing flights , Origin means a flight will depart from the location \n",
    "    #hence origin will have outgoing traffic\n",
    "    origin_df = df.groupby(['Year','Origin']).size()\n",
    "    origin_df.sort(ascending  = False)\n",
    "\n",
    "    with open('Outgoing1.csv', 'a') as f:\n",
    "        \n",
    "        #write the data about outgoing flights into one single csv\n",
    "        #write header into the csv only for the first time\n",
    "        if(i == '1987.csv'):\n",
    "            origin_df[:20].to_csv(f, header=True)\n",
    "        else:\n",
    "            origin_df[:20].to_csv(f, header=False)\n",
    "            \n",
    "#once all the flight information is written into csv, move data of all files to data frame\n",
    "df_incoming = pd.read_csv('Incoming1.csv', delimiter=',',engine='python')\n",
    "df_outgoing = pd.read_csv('Outgoing1.csv', delimiter=',',engine='python')\n",
    "\n",
    "#Rename columns for merging\n",
    "df_incoming.rename(columns={'Dest':'Location','0':'Incount'},inplace=True)\n",
    "#df_incoming.dtypes\n",
    "df_outgoing.rename(columns={'Origin':'Location','0':'Outcount'},inplace=True)\n",
    "#df_outgoing.dtypes\n",
    "\n",
    "merged_df = pd.merge(df_incoming,df_outgoing,how='outer', on =['Year','Location'])\n",
    "merged_df.drop_duplicates(inplace = True)\n",
    "#merged_df.reset_index()\n",
    "#merged_df\n",
    "    \n",
    "merged_df.to_csv('Data1.csv', header=True)    "
   ]
  },
  {
   "cell_type": "code",
   "execution_count": null,
   "metadata": {
    "collapsed": true
   },
   "outputs": [],
   "source": []
  }
 ],
 "metadata": {
  "kernelspec": {
   "display_name": "Python 2",
   "language": "python",
   "name": "python2"
  },
  "language_info": {
   "codemirror_mode": {
    "name": "ipython",
    "version": 2
   },
   "file_extension": ".py",
   "mimetype": "text/x-python",
   "name": "python",
   "nbconvert_exporter": "python",
   "pygments_lexer": "ipython2",
   "version": "2.7.9"
  }
 },
 "nbformat": 4,
 "nbformat_minor": 0
}
