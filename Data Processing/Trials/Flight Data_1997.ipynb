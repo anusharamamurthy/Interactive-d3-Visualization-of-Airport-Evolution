{
 "cells": [
  {
   "cell_type": "code",
   "execution_count": 2,
   "metadata": {
    "collapsed": false
   },
   "outputs": [],
   "source": [
    "import matplotlib.pyplot as plt\n",
    "import numpy as np\n",
    "import pandas as pd\n",
    "import seaborn as sb\n",
    "\n",
    "%matplotlib inline"
   ]
  },
  {
   "cell_type": "code",
   "execution_count": 3,
   "metadata": {
    "collapsed": false
   },
   "outputs": [],
   "source": [
    "df = pd.read_csv('1997.csv', delimiter=',',engine='python')"
   ]
  },
  {
   "cell_type": "code",
   "execution_count": 4,
   "metadata": {
    "collapsed": false
   },
   "outputs": [],
   "source": [
    "origins = df['Origin'].unique()"
   ]
  },
  {
   "cell_type": "code",
   "execution_count": 5,
   "metadata": {
    "collapsed": false
   },
   "outputs": [
    {
     "data": {
      "text/plain": [
       "205"
      ]
     },
     "execution_count": 5,
     "metadata": {},
     "output_type": "execute_result"
    }
   ],
   "source": [
    "len(origins)"
   ]
  },
  {
   "cell_type": "code",
   "execution_count": 7,
   "metadata": {
    "collapsed": false
   },
   "outputs": [],
   "source": [
    "dest = df['Dest'].unique()"
   ]
  },
  {
   "cell_type": "code",
   "execution_count": 8,
   "metadata": {
    "collapsed": false
   },
   "outputs": [],
   "source": [
    "len(dest)\n",
    "top_50_dest = df['Dest'].value_counts()[:50]\n",
    "top_50_origin = df['Origin'].value_counts()[:50]\n",
    "month_wise = df['Month'].value_counts()\n",
    "month_10 = df[df['Month'] == 10].Dest.value_counts()\n",
    "month_11 = df[df['Month'] == 11].Dest.value_counts()\n",
    "month_12 = df[df['Month'] == 12].Dest.value_counts()"
   ]
  },
  {
   "cell_type": "code",
   "execution_count": 190,
   "metadata": {
    "collapsed": false
   },
   "outputs": [
    {
     "data": {
      "text/plain": [
       "ORD    22939\n",
       "ATL    22504\n",
       "DFW    17702\n",
       "LAX    15048\n",
       "DEN    14923\n",
       "SFO    11549\n",
       "STL    11062\n",
       "EWR    10449\n",
       "PHX    10223\n",
       "PIT     9760\n",
       "DTW     9665\n",
       "LGA     9649\n",
       "BOS     8469\n",
       "CLT     8400\n",
       "MSP     7975\n",
       "DCA     7372\n",
       "IAH     7143\n",
       "PHL     7000\n",
       "MEM     6680\n",
       "MIA     6296\n",
       "LAS     6295\n",
       "MCO     5994\n",
       "SEA     5781\n",
       "SLC     5560\n",
       "BWI     5504\n",
       "CVG     5246\n",
       "RDU     5155\n",
       "TPA     5140\n",
       "SAN     5020\n",
       "IAD     4945\n",
       "       ...  \n",
       "HLN       92\n",
       "SPN       91\n",
       "UCA       89\n",
       "APF       88\n",
       "GFK       84\n",
       "BLI       84\n",
       "PHF       84\n",
       "TVL       78\n",
       "FCA       62\n",
       "PIE       61\n",
       "HDN       61\n",
       "BTM       59\n",
       "DRO       58\n",
       "RDM       58\n",
       "LIH       56\n",
       "YKM       56\n",
       "PSG       54\n",
       "WRG       53\n",
       "KOA       51\n",
       "OTZ       51\n",
       "OME       50\n",
       "PFN       46\n",
       "SCC       35\n",
       "BET       35\n",
       "CDV       34\n",
       "YAK       34\n",
       "ROR       30\n",
       "GUC       29\n",
       "YAP       17\n",
       "PIH        1\n",
       "dtype: int64"
      ]
     },
     "execution_count": 190,
     "metadata": {},
     "output_type": "execute_result"
    }
   ],
   "source": [
    "top_50_origin[:5]"
   ]
  },
  {
   "cell_type": "code",
   "execution_count": 9,
   "metadata": {
    "collapsed": false
   },
   "outputs": [
    {
     "data": {
      "text/plain": [
       "ORD    297527\n",
       "DFW    251175\n",
       "ATL    250164\n",
       "LAX    188144\n",
       "STL    177072\n",
       "dtype: int64"
      ]
     },
     "execution_count": 9,
     "metadata": {},
     "output_type": "execute_result"
    }
   ],
   "source": [
    "top_50_dest[:5]"
   ]
  },
  {
   "cell_type": "code",
   "execution_count": 10,
   "metadata": {
    "collapsed": false
   },
   "outputs": [
    {
     "data": {
      "text/plain": [
       "7     466771\n",
       "8     466608\n",
       "3     460986\n",
       "10    459247\n",
       "1     459123\n",
       "5     457361\n",
       "12    450904\n",
       "6     450737\n",
       "4     447294\n",
       "9     444431\n",
       "11    432725\n",
       "2     415656\n",
       "dtype: int64"
      ]
     },
     "execution_count": 10,
     "metadata": {},
     "output_type": "execute_result"
    }
   ],
   "source": [
    "month_wise"
   ]
  },
  {
   "cell_type": "code",
   "execution_count": 11,
   "metadata": {
    "collapsed": false
   },
   "outputs": [
    {
     "data": {
      "text/plain": [
       "ORD    25389\n",
       "ATL    21734\n",
       "DFW    21417\n",
       "LAX    16039\n",
       "STL    15303\n",
       "PHX    14394\n",
       "DTW    13341\n",
       "SFO    11923\n",
       "DEN    11745\n",
       "MSP    11588\n",
       "CLT    10719\n",
       "IAH    10502\n",
       "LAS    10442\n",
       "EWR    10140\n",
       "PIT     9606\n",
       "PHL     9275\n",
       "BOS     8508\n",
       "SEA     8190\n",
       "LGA     8172\n",
       "DCA     7385\n",
       "MCO     7358\n",
       "SLC     7298\n",
       "CVG     7171\n",
       "SAN     5723\n",
       "BWI     5650\n",
       "CLE     5273\n",
       "MIA     5230\n",
       "OAK     5019\n",
       "MCI     4977\n",
       "HOU     4864\n",
       "       ...  \n",
       "CAK       93\n",
       "MOT       93\n",
       "DLH       93\n",
       "RAP       93\n",
       "VPS       89\n",
       "TVC       89\n",
       "BGM       89\n",
       "BET       85\n",
       "BRW       71\n",
       "OME       63\n",
       "OTZ       62\n",
       "PSG       62\n",
       "YAK       62\n",
       "FCA       62\n",
       "KOA       62\n",
       "CDV       62\n",
       "ADQ       62\n",
       "HLN       62\n",
       "MRY       62\n",
       "WRG       62\n",
       "DUT       61\n",
       "SUX       58\n",
       "LSE       54\n",
       "BRO       31\n",
       "LFT       31\n",
       "BFL       31\n",
       "SCC       31\n",
       "AKN       19\n",
       "DLG       19\n",
       "LWB       13\n",
       "dtype: int64"
      ]
     },
     "execution_count": 11,
     "metadata": {},
     "output_type": "execute_result"
    }
   ],
   "source": [
    "month_10"
   ]
  },
  {
   "cell_type": "code",
   "execution_count": 12,
   "metadata": {
    "collapsed": false
   },
   "outputs": [
    {
     "data": {
      "text/plain": [
       "ORD    23466\n",
       "ATL    20726\n",
       "DFW    20196\n",
       "LAX    15055\n",
       "STL    14211\n",
       "PHX    13804\n",
       "DTW    12584\n",
       "SFO    11124\n",
       "MSP    10824\n",
       "DEN    10764\n",
       "CLT    10163\n",
       "IAH     9971\n",
       "LAS     9904\n",
       "EWR     9512\n",
       "PIT     9127\n",
       "PHL     8809\n",
       "BOS     7853\n",
       "LGA     7502\n",
       "SEA     7459\n",
       "MCO     7142\n",
       "SLC     7011\n",
       "DCA     6799\n",
       "CVG     6743\n",
       "SAN     5453\n",
       "MIA     5359\n",
       "BWI     5305\n",
       "CLE     4954\n",
       "OAK     4687\n",
       "MCI     4598\n",
       "PDX     4529\n",
       "       ...  \n",
       "SIT       88\n",
       "CAK       88\n",
       "DLH       87\n",
       "GFK       86\n",
       "BGM       84\n",
       "VPS       83\n",
       "TVC       83\n",
       "BET       77\n",
       "BRW       66\n",
       "KOA       60\n",
       "FCA       60\n",
       "HLN       60\n",
       "MRY       59\n",
       "DUT       58\n",
       "PSG       58\n",
       "YAK       58\n",
       "CDV       58\n",
       "ADQ       58\n",
       "OME       58\n",
       "OTZ       58\n",
       "WRG       58\n",
       "LSE       54\n",
       "SUX       54\n",
       "LFT       29\n",
       "SCC       29\n",
       "BFL       29\n",
       "BRO       29\n",
       "DLG       17\n",
       "AKN       17\n",
       "EGE       10\n",
       "dtype: int64"
      ]
     },
     "execution_count": 12,
     "metadata": {},
     "output_type": "execute_result"
    }
   ],
   "source": [
    "month_11"
   ]
  },
  {
   "cell_type": "code",
   "execution_count": 13,
   "metadata": {
    "collapsed": false
   },
   "outputs": [
    {
     "data": {
      "text/plain": [
       "ORD    24254\n",
       "ATL    21728\n",
       "DFW    20943\n",
       "LAX    15592\n",
       "STL    14953\n",
       "PHX    14314\n",
       "DTW    13230\n",
       "DEN    11473\n",
       "SFO    11466\n",
       "MSP    11336\n",
       "IAH    10527\n",
       "CLT    10517\n",
       "LAS    10029\n",
       "EWR     9893\n",
       "PIT     9472\n",
       "PHL     9083\n",
       "BOS     7978\n",
       "LGA     7827\n",
       "SEA     7800\n",
       "MCO     7349\n",
       "SLC     7340\n",
       "CVG     7020\n",
       "DCA     6919\n",
       "SAN     5633\n",
       "MIA     5609\n",
       "BWI     5484\n",
       "CLE     5221\n",
       "OAK     4838\n",
       "MCI     4802\n",
       "PDX     4767\n",
       "       ...  \n",
       "BGM       89\n",
       "TVC       88\n",
       "HDN       86\n",
       "BET       82\n",
       "BRW       69\n",
       "FCA       64\n",
       "KOA       62\n",
       "HLN       62\n",
       "MRY       61\n",
       "YAK       60\n",
       "ADQ       60\n",
       "LSE       60\n",
       "WRG       60\n",
       "DUT       60\n",
       "CDV       60\n",
       "PSG       60\n",
       "OME       60\n",
       "OTZ       60\n",
       "SUX       58\n",
       "LFT       31\n",
       "SCC       30\n",
       "BRO       29\n",
       "GUC       29\n",
       "MTJ       26\n",
       "GNV       23\n",
       "DRO       17\n",
       "AKN       16\n",
       "DLG       16\n",
       "BFL       13\n",
       "GUM        1\n",
       "dtype: int64"
      ]
     },
     "execution_count": 13,
     "metadata": {},
     "output_type": "execute_result"
    }
   ],
   "source": [
    "month_12"
   ]
  },
  {
   "cell_type": "code",
   "execution_count": null,
   "metadata": {
    "collapsed": true
   },
   "outputs": [],
   "source": []
  }
 ],
 "metadata": {
  "kernelspec": {
   "display_name": "Python 2",
   "language": "python",
   "name": "python2"
  },
  "language_info": {
   "codemirror_mode": {
    "name": "ipython",
    "version": 2
   },
   "file_extension": ".py",
   "mimetype": "text/x-python",
   "name": "python",
   "nbconvert_exporter": "python",
   "pygments_lexer": "ipython2",
   "version": "2.7.9"
  }
 },
 "nbformat": 4,
 "nbformat_minor": 0
}
