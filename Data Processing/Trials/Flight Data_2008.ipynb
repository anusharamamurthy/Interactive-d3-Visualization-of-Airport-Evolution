{
 "cells": [
  {
   "cell_type": "code",
   "execution_count": 1,
   "metadata": {
    "collapsed": false
   },
   "outputs": [],
   "source": [
    "import matplotlib.pyplot as plt\n",
    "import numpy as np\n",
    "import pandas as pd\n",
    "import seaborn as sb\n",
    "\n",
    "%matplotlib inline"
   ]
  },
  {
   "cell_type": "code",
   "execution_count": 2,
   "metadata": {
    "collapsed": false
   },
   "outputs": [],
   "source": [
    "df = pd.read_csv('2008.csv', delimiter=',',engine='python')"
   ]
  },
  {
   "cell_type": "code",
   "execution_count": 4,
   "metadata": {
    "collapsed": false
   },
   "outputs": [],
   "source": [
    "origins = df['Origin'].unique()"
   ]
  },
  {
   "cell_type": "code",
   "execution_count": 5,
   "metadata": {
    "collapsed": false
   },
   "outputs": [
    {
     "data": {
      "text/plain": [
       "303"
      ]
     },
     "execution_count": 5,
     "metadata": {},
     "output_type": "execute_result"
    }
   ],
   "source": [
    "len(origins)"
   ]
  },
  {
   "cell_type": "code",
   "execution_count": 6,
   "metadata": {
    "collapsed": false
   },
   "outputs": [],
   "source": [
    "dest = df['Dest'].unique()"
   ]
  },
  {
   "cell_type": "code",
   "execution_count": 7,
   "metadata": {
    "collapsed": false
   },
   "outputs": [],
   "source": [
    "len(dest)\n",
    "top_50_dest = df['Dest'].value_counts()[:50]\n",
    "top_50_origin = df['Origin'].value_counts()[:50]\n",
    "month_wise = df['Month'].value_counts()\n",
    "month_10 = df[df['Month'] == 10].Dest.value_counts()\n",
    "month_11 = df[df['Month'] == 11].Dest.value_counts()\n",
    "month_12 = df[df['Month'] == 12].Dest.value_counts()"
   ]
  },
  {
   "cell_type": "code",
   "execution_count": 190,
   "metadata": {
    "collapsed": false
   },
   "outputs": [
    {
     "data": {
      "text/plain": [
       "ORD    22939\n",
       "ATL    22504\n",
       "DFW    17702\n",
       "LAX    15048\n",
       "DEN    14923\n",
       "SFO    11549\n",
       "STL    11062\n",
       "EWR    10449\n",
       "PHX    10223\n",
       "PIT     9760\n",
       "DTW     9665\n",
       "LGA     9649\n",
       "BOS     8469\n",
       "CLT     8400\n",
       "MSP     7975\n",
       "DCA     7372\n",
       "IAH     7143\n",
       "PHL     7000\n",
       "MEM     6680\n",
       "MIA     6296\n",
       "LAS     6295\n",
       "MCO     5994\n",
       "SEA     5781\n",
       "SLC     5560\n",
       "BWI     5504\n",
       "CVG     5246\n",
       "RDU     5155\n",
       "TPA     5140\n",
       "SAN     5020\n",
       "IAD     4945\n",
       "       ...  \n",
       "HLN       92\n",
       "SPN       91\n",
       "UCA       89\n",
       "APF       88\n",
       "GFK       84\n",
       "BLI       84\n",
       "PHF       84\n",
       "TVL       78\n",
       "FCA       62\n",
       "PIE       61\n",
       "HDN       61\n",
       "BTM       59\n",
       "DRO       58\n",
       "RDM       58\n",
       "LIH       56\n",
       "YKM       56\n",
       "PSG       54\n",
       "WRG       53\n",
       "KOA       51\n",
       "OTZ       51\n",
       "OME       50\n",
       "PFN       46\n",
       "SCC       35\n",
       "BET       35\n",
       "CDV       34\n",
       "YAK       34\n",
       "ROR       30\n",
       "GUC       29\n",
       "YAP       17\n",
       "PIH        1\n",
       "dtype: int64"
      ]
     },
     "execution_count": 190,
     "metadata": {},
     "output_type": "execute_result"
    }
   ],
   "source": [
    "top_50_origin[:5]"
   ]
  },
  {
   "cell_type": "code",
   "execution_count": 8,
   "metadata": {
    "collapsed": false
   },
   "outputs": [
    {
     "data": {
      "text/plain": [
       "ATL    414521\n",
       "ORD    350452\n",
       "DFW    281401\n",
       "DEN    241470\n",
       "LAX    215685\n",
       "dtype: int64"
      ]
     },
     "execution_count": 8,
     "metadata": {},
     "output_type": "execute_result"
    }
   ],
   "source": [
    "top_50_dest[:5]"
   ]
  },
  {
   "cell_type": "code",
   "execution_count": 9,
   "metadata": {
    "collapsed": false
   },
   "outputs": [
    {
     "data": {
      "text/plain": [
       "7     627931\n",
       "3     616090\n",
       "8     612279\n",
       "6     608665\n",
       "5     606293\n",
       "1     605765\n",
       "4     598126\n",
       "2     569236\n",
       "10    556205\n",
       "12    544958\n",
       "9     540908\n",
       "11    523272\n",
       "dtype: int64"
      ]
     },
     "execution_count": 9,
     "metadata": {},
     "output_type": "execute_result"
    }
   ],
   "source": [
    "month_wise"
   ]
  },
  {
   "cell_type": "code",
   "execution_count": 10,
   "metadata": {
    "collapsed": false
   },
   "outputs": [
    {
     "data": {
      "text/plain": [
       "ATL    34700\n",
       "ORD    28834\n",
       "DFW    22775\n",
       "DEN    19609\n",
       "LAX    16925\n",
       "PHX    15642\n",
       "IAH    14442\n",
       "LAS    13934\n",
       "DTW    12652\n",
       "SFO    11657\n",
       "CLT    10770\n",
       "EWR    10707\n",
       "SLC    10617\n",
       "LGA    10075\n",
       "MSP    10050\n",
       "MCO     9736\n",
       "BOS     9433\n",
       "JFK     9044\n",
       "SEA     8951\n",
       "PHL     8555\n",
       "BWI     8491\n",
       "SAN     7364\n",
       "DCA     7274\n",
       "MDW     7260\n",
       "CVG     6707\n",
       "MEM     6654\n",
       "IAD     5914\n",
       "TPA     5887\n",
       "STL     5306\n",
       "CLE     5143\n",
       "       ...  \n",
       "CHO       62\n",
       "YAK       62\n",
       "WRG       62\n",
       "LWS       62\n",
       "BRW       62\n",
       "GUC       62\n",
       "BGM       62\n",
       "PSG       62\n",
       "CDV       62\n",
       "ADQ       60\n",
       "MEI       58\n",
       "CDC       58\n",
       "IPL       57\n",
       "EYW       56\n",
       "HTS       54\n",
       "FLO       53\n",
       "GRK       50\n",
       "SPI       50\n",
       "LYH       49\n",
       "PSE       44\n",
       "MCN       37\n",
       "ITH       31\n",
       "LWB       31\n",
       "RHI       27\n",
       "ALO       27\n",
       "CMX       27\n",
       "STX       22\n",
       "SLE       16\n",
       "ADK        9\n",
       "BPT        1\n",
       "dtype: int64"
      ]
     },
     "execution_count": 10,
     "metadata": {},
     "output_type": "execute_result"
    }
   ],
   "source": [
    "month_10"
   ]
  },
  {
   "cell_type": "code",
   "execution_count": 11,
   "metadata": {
    "collapsed": false
   },
   "outputs": [
    {
     "data": {
      "text/plain": [
       "ATL    33872\n",
       "ORD    25294\n",
       "DFW    21022\n",
       "DEN    18588\n",
       "LAX    15392\n",
       "PHX    15002\n",
       "IAH    13576\n",
       "LAS    12895\n",
       "DTW    12038\n",
       "SFO    10753\n",
       "MCO    10128\n",
       "SLC    10095\n",
       "EWR    10081\n",
       "CLT     9868\n",
       "MSP     9465\n",
       "JFK     9019\n",
       "BOS     8718\n",
       "LGA     8436\n",
       "BWI     8112\n",
       "SEA     7945\n",
       "PHL     7831\n",
       "SAN     6917\n",
       "DCA     6807\n",
       "MDW     6609\n",
       "CVG     6191\n",
       "MEM     6157\n",
       "TPA     5982\n",
       "IAD     5619\n",
       "FLL     5258\n",
       "MIA     5109\n",
       "       ...  \n",
       "BGM       59\n",
       "SCE       59\n",
       "EWN       58\n",
       "WRG       58\n",
       "YAK       58\n",
       "GUC       58\n",
       "PSG       58\n",
       "CDV       58\n",
       "BRW       58\n",
       "SCC       58\n",
       "BTM       58\n",
       "CHO       58\n",
       "LWS       57\n",
       "IPL       54\n",
       "PSE       54\n",
       "CDC       54\n",
       "MEI       54\n",
       "CMX       53\n",
       "LYH       52\n",
       "FLO       51\n",
       "HTS       51\n",
       "ADQ       47\n",
       "STX       30\n",
       "ITH       29\n",
       "SJT       28\n",
       "RHI       24\n",
       "ALO       24\n",
       "ADK        8\n",
       "PIR        3\n",
       "LWB        1\n",
       "dtype: int64"
      ]
     },
     "execution_count": 11,
     "metadata": {},
     "output_type": "execute_result"
    }
   ],
   "source": [
    "month_11"
   ]
  },
  {
   "cell_type": "code",
   "execution_count": 12,
   "metadata": {
    "collapsed": false
   },
   "outputs": [
    {
     "data": {
      "text/plain": [
       "ATL    33903\n",
       "ORD    26388\n",
       "DFW    21924\n",
       "DEN    19813\n",
       "LAX    16177\n",
       "PHX    15638\n",
       "IAH    14993\n",
       "LAS    13064\n",
       "DTW    12409\n",
       "SFO    11210\n",
       "SLC    10859\n",
       "MCO    10654\n",
       "EWR    10453\n",
       "CLT    10153\n",
       "MSP     9799\n",
       "JFK     9419\n",
       "BOS     9057\n",
       "LGA     8779\n",
       "SEA     8348\n",
       "BWI     8238\n",
       "PHL     8103\n",
       "SAN     7085\n",
       "DCA     6935\n",
       "MDW     6580\n",
       "CVG     6567\n",
       "MEM     6334\n",
       "TPA     6332\n",
       "IAD     5845\n",
       "FLL     5714\n",
       "MIA     5340\n",
       "       ...  \n",
       "SCE       62\n",
       "BTM       60\n",
       "PSE       60\n",
       "BRW       60\n",
       "EWN       59\n",
       "PSG       59\n",
       "LWS       59\n",
       "WRG       59\n",
       "SCC       59\n",
       "BGM       59\n",
       "YAK       57\n",
       "IPL       57\n",
       "CDV       57\n",
       "MEI       56\n",
       "CDC       56\n",
       "HTS       54\n",
       "CHO       52\n",
       "ADQ       51\n",
       "LYH       49\n",
       "CMX       45\n",
       "FLO       41\n",
       "STX       35\n",
       "ITH       30\n",
       "RHI       29\n",
       "TEX       28\n",
       "ALO       27\n",
       "SJT       17\n",
       "PMD       12\n",
       "ADK        7\n",
       "PIR        2\n",
       "dtype: int64"
      ]
     },
     "execution_count": 12,
     "metadata": {},
     "output_type": "execute_result"
    }
   ],
   "source": [
    "month_12"
   ]
  },
  {
   "cell_type": "code",
   "execution_count": null,
   "metadata": {
    "collapsed": true
   },
   "outputs": [],
   "source": []
  }
 ],
 "metadata": {
  "kernelspec": {
   "display_name": "Python 2",
   "language": "python",
   "name": "python2"
  },
  "language_info": {
   "codemirror_mode": {
    "name": "ipython",
    "version": 2
   },
   "file_extension": ".py",
   "mimetype": "text/x-python",
   "name": "python",
   "nbconvert_exporter": "python",
   "pygments_lexer": "ipython2",
   "version": "2.7.9"
  }
 },
 "nbformat": 4,
 "nbformat_minor": 0
}
