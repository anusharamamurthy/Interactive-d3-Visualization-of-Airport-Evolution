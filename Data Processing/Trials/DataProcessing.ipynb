{
 "cells": [
  {
   "cell_type": "code",
   "execution_count": null,
   "metadata": {
    "collapsed": true
   },
   "outputs": [],
   "source": [
    "import matplotlib.pyplot as plt\n",
    "import numpy as np\n",
    "import pandas as pd\n",
    "import seaborn as sb\n",
    "import csv as csvlib\n",
    "\n",
    "%matplotlib inline"
   ]
  },
  {
   "cell_type": "code",
   "execution_count": null,
   "metadata": {
    "collapsed": true
   },
   "outputs": [],
   "source": [
    "list_filenames = ['1987.csv','1988.csv','1989.csv','1990.csv','1991.csv','1992.csv',\n",
    "                  '1993.csv','1994.csv','1995.csv','1996.csv','1997.csv','1998.csv'\n",
    "                  ,'1999.csv','2000.csv','2001.csv','2002.csv','2003.csv','2004.csv',\n",
    "                  '2005.csv','2006.csv','2007.csv','2008.csv']\n",
    "for i in list_filenames:\n",
    "    #print i\n",
    "    #i takes one file at a time\n",
    "    #read each file into a dataframe\n",
    "    df = pd.read_csv(i, delimiter=',',engine='python')\n",
    "    \n",
    "    #find the count of incoming flights , Destination means flights will land in that location\n",
    "    #Hence Destination will have oncoming traffic\n",
    "    dest_df = df.groupby(['Year','Dest']).size()\n",
    "    dest_df.sort(ascending  = False)\n",
    "\n",
    "    with open('Incoming.csv', 'a') as f:\n",
    "        \n",
    "        #write the data about incoming flights into one single csv\n",
    "        #write header into the csv only for the first time\n",
    "        if(i == '1987.csv'):\n",
    "            dest_df[:20].to_csv(f, header=True)\n",
    "        else:\n",
    "            dest_df[:20].to_csv(f, header=False)\n",
    "    \n",
    "    #find count of outgoing flights , Origin means a flight will depart from the location \n",
    "    #hence origin will have outgoing traffic\n",
    "    origin_df = df.groupby(['Year','Origin']).size()\n",
    "    origin_df.sort(ascending  = False)\n",
    "\n",
    "    with open('Outgoing.csv', 'a') as f:\n",
    "        \n",
    "        #write the data about outgoing flights into one single csv\n",
    "        #write header into the csv only for the first time\n",
    "        if(i == '1987.csv'):\n",
    "            origin_df[:20].to_csv(f, header=True)\n",
    "        else:\n",
    "            origin_df[:20].to_csv(f, header=False)\n",
    "            \n",
    "#once all the flight information is written into csv, move data of all files to data frame\n",
    "df_incoming = pd.read_csv('Incoming.csv', delimiter=',',engine='python')\n",
    "df_outgoing = pd.read_csv('Outgoing.csv', delimiter=',',engine='python')\n",
    "\n",
    "#Rename columns for merging\n",
    "df_incoming.rename(columns={'Dest':'Location','0':'Incount'},inplace=True)\n",
    "\n",
    "df_outgoing.rename(columns={'Origin':'Location','0':'Outcount'},inplace=True)\n",
    "\n",
    "\n",
    "merged_df = pd.merge(df_incoming,df_outgoing,how='outer', on =['Year','Location'])\n",
    "merged_df.drop_duplicates(inplace = True)\n",
    "    \n",
    "merged_df.to_csv('Data.csv',index=False,header=True)    "
   ]
  }
 ],
 "metadata": {
  "kernelspec": {
   "display_name": "Python 2",
   "language": "python",
   "name": "python2"
  },
  "language_info": {
   "codemirror_mode": {
    "name": "ipython",
    "version": 2
   },
   "file_extension": ".py",
   "mimetype": "text/x-python",
   "name": "python",
   "nbconvert_exporter": "python",
   "pygments_lexer": "ipython2",
   "version": "2.7.9"
  }
 },
 "nbformat": 4,
 "nbformat_minor": 0
}
